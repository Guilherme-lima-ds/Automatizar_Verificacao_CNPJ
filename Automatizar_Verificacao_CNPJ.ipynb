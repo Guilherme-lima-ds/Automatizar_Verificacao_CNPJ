{
 "cells": [
  {
   "cell_type": "markdown",
   "id": "c6be95b3",
   "metadata": {},
   "source": [
    "## Verificando se o CNPJ è do Simples Nacional"
   ]
  },
  {
   "cell_type": "markdown",
   "id": "aed81b39",
   "metadata": {},
   "source": [
    "### Importando as bibliotecas necessarias"
   ]
  },
  {
   "cell_type": "code",
   "execution_count": 15,
   "id": "e9c40202",
   "metadata": {},
   "outputs": [],
   "source": [
    "from selenium import webdriver\n",
    "from selenium.webdriver.common.keys import Keys\n",
    "from selenium.webdriver.common.by import By\n",
    "from time import sleep\n",
    "import datetime\n",
    "import pandas as pd"
   ]
  },
  {
   "cell_type": "markdown",
   "id": "d1b07ab8",
   "metadata": {},
   "source": [
    "### Abrindo o navegador"
   ]
  },
  {
   "cell_type": "code",
   "execution_count": 2,
   "id": "fd3f6126",
   "metadata": {},
   "outputs": [],
   "source": [
    "#abrindo o navegador\n",
    "driver = webdriver.Chrome()\n",
    "sleep(3)\n",
    "\n",
    "#Deixando o navegador em tela cheia\n",
    "driver.maximize_window()\n",
    "sleep(2)"
   ]
  },
  {
   "cell_type": "markdown",
   "id": "36f0c0a9",
   "metadata": {},
   "source": [
    "### Acessando o Site"
   ]
  },
  {
   "cell_type": "code",
   "execution_count": 5,
   "id": "50b3d6c1",
   "metadata": {},
   "outputs": [],
   "source": [
    "#acessando o site\n",
    "site_consulta_back = 'https://consopt.www8.receita.fazenda.gov.br/consultaoptantes'\n",
    "#driver.get(site_consulta_back)\n",
    "#sleep(4)"
   ]
  },
  {
   "cell_type": "markdown",
   "id": "3d403212",
   "metadata": {},
   "source": [
    "### Preenchendo o cnpj"
   ]
  },
  {
   "cell_type": "code",
   "execution_count": null,
   "id": "76c18df9",
   "metadata": {},
   "outputs": [],
   "source": [
    "# Preenchendo o cnpj, atraves da procura da caixa dele.\n",
    "cnpj = driver.find_element(By.CSS_SELECTOR, '#Cnpj')\n",
    "#fazendo o codigo esperar\n",
    "sleep(1)\n",
    "#limpando a caixa para que nao haja erros.\n",
    "cnpj.clear()\n",
    "sleep(1)\n",
    "#digitando o cnpj\n",
    "cnpj.send_keys('84228105000192')\n",
    "sleep(1)"
   ]
  },
  {
   "cell_type": "markdown",
   "id": "8709babb",
   "metadata": {},
   "source": [
    "### Apertando o botão de consultar"
   ]
  },
  {
   "cell_type": "code",
   "execution_count": null,
   "id": "a8c9ffaf",
   "metadata": {},
   "outputs": [],
   "source": [
    "#apertando o consultar\n",
    "consultar = driver.find_element(By.CLASS_NAME, 'btn-verde').click()\n",
    "sleep(5)"
   ]
  },
  {
   "cell_type": "markdown",
   "id": "bb69bf67",
   "metadata": {},
   "source": [
    "###  Pegando os dados"
   ]
  },
  {
   "cell_type": "code",
   "execution_count": null,
   "id": "5451aa66",
   "metadata": {},
   "outputs": [],
   "source": [
    "#Consultando dados e juntando tudo em uma variavel.\n",
    "Nome_Empresarial                    = driver.find_element(By.CSS_SELECTOR, '#conteudo > div:nth-child(2) > div.panel-body > span:nth-child(7)').get_attribute('innerHTML')\n",
    "Situacao_no_Simples_Nacional        = driver.find_element(By.CSS_SELECTOR, '#conteudo > div:nth-child(3) > div.panel-body > span:nth-child(1)').get_attribute('innerHTML')\n",
    "Situacao_no_SIMEI                   = driver.find_element(By.CSS_SELECTOR, '#conteudo > div:nth-child(3) > div.panel-body > span:nth-child(3)').get_attribute('innerHTML')\n",
    "dados                               = [Nome_Empresarial, Situacao_no_Simples_Nacional, Situacao_no_SIMEI]\n",
    "dados"
   ]
  },
  {
   "cell_type": "markdown",
   "id": "337dcca1",
   "metadata": {},
   "source": [
    "### Criando Fórmulas personalizadas"
   ]
  },
  {
   "cell_type": "code",
   "execution_count": 3,
   "id": "895df2f7",
   "metadata": {},
   "outputs": [],
   "source": [
    "def consulta_simples(numero_cnpj):\n",
    "    \n",
    "   #abrindo o navegador\n",
    "    #driver = webdriver.Chrome()\n",
    "    #sleep(3)\n",
    "    \n",
    "    \n",
    "    #Deixando o navegador em tela cheia\n",
    "    #driver.maximize_window()\n",
    "    #sleep(2)\n",
    "    \n",
    "    #acessando o site\n",
    "    driver.get(site_consulta_back)\n",
    "    print('Aguardando 5 segundos.')\n",
    "    sleep(5)\n",
    "    \n",
    "    #preenchendo o cnpj\n",
    "    cnpj = driver.find_element(By.CSS_SELECTOR, '#Cnpj')\n",
    "    sleep(1)\n",
    "    #limpando a caixa para que nao haja erros.\n",
    "    cnpj.clear()\n",
    "    sleep(1)\n",
    "    \n",
    "    #digitando o cnpj\n",
    "    cnpj.send_keys(numero_cnpj)\n",
    "    sleep(1)\n",
    "    \n",
    "    #apertando o consultar\n",
    "    consultar = driver.find_element(By.CLASS_NAME, 'btn-verde').click()\n",
    "    sleep(7)\n",
    "    \n",
    "    #Consultando dados e juntando tudo em uma variavel.\n",
    "    Nome_Empresarial                    = driver.find_element(By.CSS_SELECTOR, '#conteudo > div:nth-child(2) > div.panel-body > span:nth-child(7)').get_attribute('innerHTML')\n",
    "    Situacao_no_Simples_Nacional        = driver.find_element(By.CSS_SELECTOR, '#conteudo > div:nth-child(3) > div.panel-body > span:nth-child(1)').get_attribute('innerHTML')\n",
    "    Situacao_no_SIMEI                   = driver.find_element(By.CSS_SELECTOR, '#conteudo > div:nth-child(3) > div.panel-body > span:nth-child(3)').get_attribute('innerHTML')\n",
    "    dados                               = [numero_cnpj,Nome_Empresarial, Situacao_no_Simples_Nacional, Situacao_no_SIMEI]\n",
    "\n",
    "    \n",
    "    \n",
    "    return dados\n",
    "    "
   ]
  },
  {
   "cell_type": "code",
   "execution_count": 6,
   "id": "9cb9d0a8",
   "metadata": {},
   "outputs": [
    {
     "name": "stdout",
     "output_type": "stream",
     "text": [
      "Aguardando 5 segundos.\n"
     ]
    },
    {
     "data": {
      "text/plain": [
       "['84228105000192',\n",
       " 'WANKE S.A.',\n",
       " 'NÃO optante pelo Simples Nacional',\n",
       " 'NÃO enquadrado no SIMEI']"
      ]
     },
     "execution_count": 6,
     "metadata": {},
     "output_type": "execute_result"
    }
   ],
   "source": [
    "consulta_simples('84228105000192')"
   ]
  },
  {
   "cell_type": "markdown",
   "id": "bae91fb8",
   "metadata": {},
   "source": [
    "### Tratando o erro"
   ]
  },
  {
   "cell_type": "markdown",
   "id": "03117e53",
   "metadata": {},
   "source": [
    "- O ERRO: Um possivel erro que pode acontencer no nosso codigo e que ele pode achar algum impedimento para conseguir realizar a consulta, fazendo assim que o programa trave e pare, como acontenceu na primeira vez que eu fui executar o comando acima ele deu uma travada e deu erro.\n",
    "- -------------------------------------------------\n",
    "- SOLUÇÃO: Como soluçao eu vou colocar ele dentro de um loop infinito com try e except para sempre que der um erro ele tentar de novo, ou seja, caso de uma travada na tela, aparaça algo que ele nao esperava ou acontença algo do tipo, ele vai simplesmente recarrega a pagina e tentar de novo. "
   ]
  },
  {
   "cell_type": "code",
   "execution_count": 7,
   "id": "3f2c887d",
   "metadata": {},
   "outputs": [],
   "source": [
    "# tratando o erro da minha consulta\n",
    "'''\n",
    "Explicação da Funçao:\n",
    "\n",
    "Ulizando o While true (enquanto for verdadeiro, ou seja, enquanto voce conseguir acessar o site e consulta o cnpj, \n",
    "voce vai consultar e me retorna os dados dele)\n",
    "agora quando voce encontrar algum erro, ou seja, ser diferente de true, voce vai passar, ou seja, vai tentar de novo\n",
    "ate me retorna os dados\n",
    "\n",
    "'''\n",
    "def consulta(cnpj):\n",
    "    while True:\n",
    "        try:\n",
    "            dados = consulta_simples(cnpj)\n",
    "            break\n",
    "        except:\n",
    "            pass\n",
    "    return dados"
   ]
  },
  {
   "cell_type": "code",
   "execution_count": 8,
   "id": "693649be",
   "metadata": {},
   "outputs": [
    {
     "name": "stdout",
     "output_type": "stream",
     "text": [
      "Aguardando 5 segundos.\n"
     ]
    },
    {
     "data": {
      "text/plain": [
       "['84228105000192',\n",
       " 'WANKE S.A.',\n",
       " 'NÃO optante pelo Simples Nacional',\n",
       " 'NÃO enquadrado no SIMEI']"
      ]
     },
     "execution_count": 8,
     "metadata": {},
     "output_type": "execute_result"
    }
   ],
   "source": [
    "consulta('84228105000192')"
   ]
  },
  {
   "cell_type": "markdown",
   "id": "4a0593f1",
   "metadata": {},
   "source": [
    "### Ambiente de produção\n",
    "\n",
    "- Depois de realizamos os testes necessarios para ver se está tudo funcionando perfeitamente, precissamos ir agora vamos para o ambiente de produção, nesse ambiente da vida real, vamos lidar agora com dezenas ate cententas de milhares de dados. Entao precisamos deixar nossos comandos mais sucetiveis a recebe grandes quantidades de informação."
   ]
  },
  {
   "cell_type": "markdown",
   "id": "9ce93022",
   "metadata": {},
   "source": [
    "### Atribuindo cnpjs a minha lista de cnpjs"
   ]
  },
  {
   "cell_type": "code",
   "execution_count": 11,
   "id": "c1149315",
   "metadata": {},
   "outputs": [],
   "source": [
    "# Lista de CNPJ\n",
    "lista_cnpjs = ['84228105000192', '00000000000191', '02828446000134', '72610132000146', '01874354000128', '04220692000134', '26159125000152']"
   ]
  },
  {
   "cell_type": "markdown",
   "id": "5949f7b8",
   "metadata": {},
   "source": [
    "### Automatizando a leitura de cnjps, fazendo assim ele ler varios de uma vez"
   ]
  },
  {
   "cell_type": "code",
   "execution_count": 13,
   "id": "f7ed555e",
   "metadata": {},
   "outputs": [
    {
     "name": "stdout",
     "output_type": "stream",
     "text": [
      "Aguardando 5 segundos.\n",
      "Aguardando 5 segundos.\n",
      "Aguardando 5 segundos.\n",
      "Aguardando 5 segundos.\n",
      "Aguardando 5 segundos.\n",
      "Aguardando 5 segundos.\n",
      "Aguardando 5 segundos.\n"
     ]
    },
    {
     "data": {
      "text/plain": [
       "[['84228105000192',\n",
       "  'WANKE S.A.',\n",
       "  'NÃO optante pelo Simples Nacional',\n",
       "  'NÃO enquadrado no SIMEI'],\n",
       " ['00000000000191',\n",
       "  'BANCO DO BRASIL SA',\n",
       "  'NÃO optante pelo Simples Nacional',\n",
       "  'NÃO enquadrado no SIMEI'],\n",
       " ['02828446000134',\n",
       "  '0001A LITORAL LOCADORA LTDA',\n",
       "  'NÃO optante pelo Simples Nacional',\n",
       "  'NÃO enquadrado no SIMEI'],\n",
       " ['72610132000146',\n",
       "  '0001 ASSESSORIA E SERVICOS LTDA',\n",
       "  'NÃO optante pelo Simples Nacional',\n",
       "  'NÃO enquadrado no SIMEI'],\n",
       " ['01874354000128',\n",
       "  '0002 RESTAURANTE E LANCHONETE LTDA',\n",
       "  'NÃO optante pelo Simples Nacional',\n",
       "  'NÃO enquadrado no SIMEI'],\n",
       " ['04220692000134',\n",
       "  '0009 CHURRASCARIA E RESTAURANTE LTDA',\n",
       "  'NÃO optante pelo Simples Nacional',\n",
       "  'NÃO enquadrado no SIMEI'],\n",
       " ['26159125000152',\n",
       "  '001 AUTO CAR EIRELI',\n",
       "  'NÃO optante pelo Simples Nacional',\n",
       "  'NÃO enquadrado no SIMEI']]"
      ]
     },
     "execution_count": 13,
     "metadata": {},
     "output_type": "execute_result"
    }
   ],
   "source": [
    "#Ulizando o nosso querido for para fazer a automaização de varios cnpjs de uma vez.\n",
    "lista = []\n",
    "\n",
    "for item in lista_cnpjs:\n",
    "    \n",
    "    lista.append(consulta(item))\n",
    "    \n",
    "lista"
   ]
  },
  {
   "cell_type": "markdown",
   "id": "938f0993",
   "metadata": {},
   "source": [
    "### Transformando em Tabela com o pandas"
   ]
  },
  {
   "cell_type": "code",
   "execution_count": 14,
   "id": "4115dd64",
   "metadata": {},
   "outputs": [
    {
     "data": {
      "text/html": [
       "<div>\n",
       "<style scoped>\n",
       "    .dataframe tbody tr th:only-of-type {\n",
       "        vertical-align: middle;\n",
       "    }\n",
       "\n",
       "    .dataframe tbody tr th {\n",
       "        vertical-align: top;\n",
       "    }\n",
       "\n",
       "    .dataframe thead th {\n",
       "        text-align: right;\n",
       "    }\n",
       "</style>\n",
       "<table border=\"1\" class=\"dataframe\">\n",
       "  <thead>\n",
       "    <tr style=\"text-align: right;\">\n",
       "      <th></th>\n",
       "      <th>CNPJ</th>\n",
       "      <th>RAZAO_SOCIAL</th>\n",
       "      <th>SITUACAO_SIMPLES</th>\n",
       "      <th>SITUACAO_SIMEI</th>\n",
       "    </tr>\n",
       "  </thead>\n",
       "  <tbody>\n",
       "    <tr>\n",
       "      <th>0</th>\n",
       "      <td>84228105000192</td>\n",
       "      <td>WANKE S.A.</td>\n",
       "      <td>NÃO optante pelo Simples Nacional</td>\n",
       "      <td>NÃO enquadrado no SIMEI</td>\n",
       "    </tr>\n",
       "    <tr>\n",
       "      <th>1</th>\n",
       "      <td>00000000000191</td>\n",
       "      <td>BANCO DO BRASIL SA</td>\n",
       "      <td>NÃO optante pelo Simples Nacional</td>\n",
       "      <td>NÃO enquadrado no SIMEI</td>\n",
       "    </tr>\n",
       "    <tr>\n",
       "      <th>2</th>\n",
       "      <td>02828446000134</td>\n",
       "      <td>0001A LITORAL LOCADORA LTDA</td>\n",
       "      <td>NÃO optante pelo Simples Nacional</td>\n",
       "      <td>NÃO enquadrado no SIMEI</td>\n",
       "    </tr>\n",
       "    <tr>\n",
       "      <th>3</th>\n",
       "      <td>72610132000146</td>\n",
       "      <td>0001 ASSESSORIA E SERVICOS LTDA</td>\n",
       "      <td>NÃO optante pelo Simples Nacional</td>\n",
       "      <td>NÃO enquadrado no SIMEI</td>\n",
       "    </tr>\n",
       "    <tr>\n",
       "      <th>4</th>\n",
       "      <td>01874354000128</td>\n",
       "      <td>0002 RESTAURANTE E LANCHONETE LTDA</td>\n",
       "      <td>NÃO optante pelo Simples Nacional</td>\n",
       "      <td>NÃO enquadrado no SIMEI</td>\n",
       "    </tr>\n",
       "    <tr>\n",
       "      <th>5</th>\n",
       "      <td>04220692000134</td>\n",
       "      <td>0009 CHURRASCARIA E RESTAURANTE LTDA</td>\n",
       "      <td>NÃO optante pelo Simples Nacional</td>\n",
       "      <td>NÃO enquadrado no SIMEI</td>\n",
       "    </tr>\n",
       "    <tr>\n",
       "      <th>6</th>\n",
       "      <td>26159125000152</td>\n",
       "      <td>001 AUTO CAR EIRELI</td>\n",
       "      <td>NÃO optante pelo Simples Nacional</td>\n",
       "      <td>NÃO enquadrado no SIMEI</td>\n",
       "    </tr>\n",
       "  </tbody>\n",
       "</table>\n",
       "</div>"
      ],
      "text/plain": [
       "             CNPJ                          RAZAO_SOCIAL  \\\n",
       "0  84228105000192                            WANKE S.A.   \n",
       "1  00000000000191                    BANCO DO BRASIL SA   \n",
       "2  02828446000134           0001A LITORAL LOCADORA LTDA   \n",
       "3  72610132000146       0001 ASSESSORIA E SERVICOS LTDA   \n",
       "4  01874354000128    0002 RESTAURANTE E LANCHONETE LTDA   \n",
       "5  04220692000134  0009 CHURRASCARIA E RESTAURANTE LTDA   \n",
       "6  26159125000152                   001 AUTO CAR EIRELI   \n",
       "\n",
       "                    SITUACAO_SIMPLES           SITUACAO_SIMEI  \n",
       "0  NÃO optante pelo Simples Nacional  NÃO enquadrado no SIMEI  \n",
       "1  NÃO optante pelo Simples Nacional  NÃO enquadrado no SIMEI  \n",
       "2  NÃO optante pelo Simples Nacional  NÃO enquadrado no SIMEI  \n",
       "3  NÃO optante pelo Simples Nacional  NÃO enquadrado no SIMEI  \n",
       "4  NÃO optante pelo Simples Nacional  NÃO enquadrado no SIMEI  \n",
       "5  NÃO optante pelo Simples Nacional  NÃO enquadrado no SIMEI  \n",
       "6  NÃO optante pelo Simples Nacional  NÃO enquadrado no SIMEI  "
      ]
     },
     "execution_count": 14,
     "metadata": {},
     "output_type": "execute_result"
    }
   ],
   "source": [
    "#Transformando nosso resultado em uma tabela com nosso querido pandas, assim deixando de uma forma mais visual\n",
    "pd.DataFrame(lista, columns=['CNPJ','RAZAO_SOCIAL','SITUACAO_SIMPLES','SITUACAO_SIMEI'])"
   ]
  },
  {
   "cell_type": "markdown",
   "id": "ba047755",
   "metadata": {},
   "source": [
    "#### Sendo Esperto para evitar preocupações no futuro.\n",
    "- Bem, está tudo certo e bonito ele está indo na pagina, está pegando a informação e me trazendo ok.\n",
    "- A grande questão e que e se a minha internet cai? e se acabar a luz durante esse processo, sao coisas normais que acontencem, entao e melhor previnir do que remediar ne .D"
   ]
  },
  {
   "cell_type": "markdown",
   "id": "bd7c86f7",
   "metadata": {},
   "source": [
    "### Gravando cada interação em um arquivo txt para evitar perdas"
   ]
  },
  {
   "cell_type": "code",
   "execution_count": 16,
   "id": "fc684a81",
   "metadata": {},
   "outputs": [
    {
     "name": "stdout",
     "output_type": "stream",
     "text": [
      "Aguardando 5 segundos.\n",
      "Aguardando 5 segundos.\n",
      "Aguardando 5 segundos.\n",
      "Aguardando 5 segundos.\n",
      "Aguardando 5 segundos.\n",
      "Aguardando 5 segundos.\n",
      "Aguardando 5 segundos.\n"
     ]
    }
   ],
   "source": [
    "#Aplicando a formula que vai gravar em um arquivo a cada interação que ele fizer\n",
    "\n",
    "for item in lista_cnpjs:\n",
    "    \n",
    "    #aplicando uma função que vai me retorna a data de agora.\n",
    "    agora = datetime.datetime.now().strftime('%Y-%m-%d %H:%M:%S')\n",
    "    lista = consulta(item)\n",
    "    \n",
    "    #Criando (ou abrindo) um arquivo text para conseguir executar a gravação de cada interação.\n",
    "    with open ('consultas.txt', 'a') as file:\n",
    "        file.write( lista[0] + ',' + lista[1] + ',' + lista[2] + ',' + lista[3] + ',' + agora + '\\n')\n",
    "        \n",
    "        \n",
    "    sleep(5)\n",
    "    \n",
    "    "
   ]
  },
  {
   "cell_type": "markdown",
   "id": "56ce468a",
   "metadata": {},
   "source": [
    "### Importando o arquivo Txt"
   ]
  },
  {
   "cell_type": "code",
   "execution_count": 18,
   "id": "0510abc8",
   "metadata": {},
   "outputs": [
    {
     "data": {
      "text/html": [
       "<div>\n",
       "<style scoped>\n",
       "    .dataframe tbody tr th:only-of-type {\n",
       "        vertical-align: middle;\n",
       "    }\n",
       "\n",
       "    .dataframe tbody tr th {\n",
       "        vertical-align: top;\n",
       "    }\n",
       "\n",
       "    .dataframe thead th {\n",
       "        text-align: right;\n",
       "    }\n",
       "</style>\n",
       "<table border=\"1\" class=\"dataframe\">\n",
       "  <thead>\n",
       "    <tr style=\"text-align: right;\">\n",
       "      <th></th>\n",
       "      <th>CNPJ</th>\n",
       "      <th>RAZAO_SOCIAL</th>\n",
       "      <th>SITUACAO_SIMPLES</th>\n",
       "      <th>SITUACAO_SIMEI</th>\n",
       "      <th>DATA</th>\n",
       "    </tr>\n",
       "  </thead>\n",
       "  <tbody>\n",
       "    <tr>\n",
       "      <th>0</th>\n",
       "      <td>84228105000192</td>\n",
       "      <td>WANKE S.A.</td>\n",
       "      <td>NÃO optante pelo Simples Nacional</td>\n",
       "      <td>NÃO enquadrado no SIMEI</td>\n",
       "      <td>2021-12-25 11:29:19</td>\n",
       "    </tr>\n",
       "    <tr>\n",
       "      <th>1</th>\n",
       "      <td>00000000000191</td>\n",
       "      <td>BANCO DO BRASIL SA</td>\n",
       "      <td>NÃO optante pelo Simples Nacional</td>\n",
       "      <td>NÃO enquadrado no SIMEI</td>\n",
       "      <td>2021-12-25 11:29:39</td>\n",
       "    </tr>\n",
       "    <tr>\n",
       "      <th>2</th>\n",
       "      <td>02828446000134</td>\n",
       "      <td>0001A LITORAL LOCADORA LTDA</td>\n",
       "      <td>NÃO optante pelo Simples Nacional</td>\n",
       "      <td>NÃO enquadrado no SIMEI</td>\n",
       "      <td>2021-12-25 11:30:00</td>\n",
       "    </tr>\n",
       "    <tr>\n",
       "      <th>3</th>\n",
       "      <td>72610132000146</td>\n",
       "      <td>0001 ASSESSORIA E SERVICOS LTDA</td>\n",
       "      <td>NÃO optante pelo Simples Nacional</td>\n",
       "      <td>NÃO enquadrado no SIMEI</td>\n",
       "      <td>2021-12-25 11:30:20</td>\n",
       "    </tr>\n",
       "    <tr>\n",
       "      <th>4</th>\n",
       "      <td>01874354000128</td>\n",
       "      <td>0002 RESTAURANTE E LANCHONETE LTDA</td>\n",
       "      <td>NÃO optante pelo Simples Nacional</td>\n",
       "      <td>NÃO enquadrado no SIMEI</td>\n",
       "      <td>2021-12-25 11:30:41</td>\n",
       "    </tr>\n",
       "    <tr>\n",
       "      <th>5</th>\n",
       "      <td>04220692000134</td>\n",
       "      <td>0009 CHURRASCARIA E RESTAURANTE LTDA</td>\n",
       "      <td>NÃO optante pelo Simples Nacional</td>\n",
       "      <td>NÃO enquadrado no SIMEI</td>\n",
       "      <td>2021-12-25 11:31:01</td>\n",
       "    </tr>\n",
       "    <tr>\n",
       "      <th>6</th>\n",
       "      <td>26159125000152</td>\n",
       "      <td>001 AUTO CAR EIRELI</td>\n",
       "      <td>NÃO optante pelo Simples Nacional</td>\n",
       "      <td>NÃO enquadrado no SIMEI</td>\n",
       "      <td>2021-12-25 11:31:21</td>\n",
       "    </tr>\n",
       "  </tbody>\n",
       "</table>\n",
       "</div>"
      ],
      "text/plain": [
       "             CNPJ                          RAZAO_SOCIAL  \\\n",
       "0  84228105000192                            WANKE S.A.   \n",
       "1  00000000000191                    BANCO DO BRASIL SA   \n",
       "2  02828446000134           0001A LITORAL LOCADORA LTDA   \n",
       "3  72610132000146       0001 ASSESSORIA E SERVICOS LTDA   \n",
       "4  01874354000128    0002 RESTAURANTE E LANCHONETE LTDA   \n",
       "5  04220692000134  0009 CHURRASCARIA E RESTAURANTE LTDA   \n",
       "6  26159125000152                   001 AUTO CAR EIRELI   \n",
       "\n",
       "                    SITUACAO_SIMPLES           SITUACAO_SIMEI  \\\n",
       "0  NÃO optante pelo Simples Nacional  NÃO enquadrado no SIMEI   \n",
       "1  NÃO optante pelo Simples Nacional  NÃO enquadrado no SIMEI   \n",
       "2  NÃO optante pelo Simples Nacional  NÃO enquadrado no SIMEI   \n",
       "3  NÃO optante pelo Simples Nacional  NÃO enquadrado no SIMEI   \n",
       "4  NÃO optante pelo Simples Nacional  NÃO enquadrado no SIMEI   \n",
       "5  NÃO optante pelo Simples Nacional  NÃO enquadrado no SIMEI   \n",
       "6  NÃO optante pelo Simples Nacional  NÃO enquadrado no SIMEI   \n",
       "\n",
       "                  DATA  \n",
       "0  2021-12-25 11:29:19  \n",
       "1  2021-12-25 11:29:39  \n",
       "2  2021-12-25 11:30:00  \n",
       "3  2021-12-25 11:30:20  \n",
       "4  2021-12-25 11:30:41  \n",
       "5  2021-12-25 11:31:01  \n",
       "6  2021-12-25 11:31:21  "
      ]
     },
     "execution_count": 18,
     "metadata": {},
     "output_type": "execute_result"
    }
   ],
   "source": [
    "#Agora com mais segurança e com os arquivos salvos em outro lugar, podemos finalmente abrilos no nosso python\n",
    "\n",
    "# Importando TXT em formato tabela\n",
    "df = pd.read_csv(\n",
    "     'consultas.txt'\n",
    "    , sep = ',' \n",
    "    , encoding = 'latin_1'\n",
    "    , header = None\n",
    "    , dtype = {0:str}\n",
    "    , names = ['CNPJ','RAZAO_SOCIAL','SITUACAO_SIMPLES','SITUACAO_SIMEI', 'DATA']\n",
    ")\n",
    "\n",
    "df"
   ]
  },
  {
   "cell_type": "markdown",
   "id": "938d1dd7",
   "metadata": {},
   "source": [
    "### Importando para Excel"
   ]
  },
  {
   "cell_type": "code",
   "execution_count": 19,
   "id": "0e4cfd03",
   "metadata": {},
   "outputs": [],
   "source": [
    "# E finalmente terminando nosso projeto, podemos importa ele para excel e assim mandar para alguem, abrir no power bi\n",
    "# ou fazer qualquer coisa que seja com ele.\n",
    "df.to_excel(\"Consultas.xlsx\",sheet_name='MinhaAba')  "
   ]
  },
  {
   "cell_type": "markdown",
   "id": "d05e2154",
   "metadata": {},
   "source": [
    "## FIM"
   ]
  }
 ],
 "metadata": {
  "kernelspec": {
   "display_name": "Python 3",
   "language": "python",
   "name": "python3"
  },
  "language_info": {
   "codemirror_mode": {
    "name": "ipython",
    "version": 3
   },
   "file_extension": ".py",
   "mimetype": "text/x-python",
   "name": "python",
   "nbconvert_exporter": "python",
   "pygments_lexer": "ipython3",
   "version": "3.8.8"
  }
 },
 "nbformat": 4,
 "nbformat_minor": 5
}
